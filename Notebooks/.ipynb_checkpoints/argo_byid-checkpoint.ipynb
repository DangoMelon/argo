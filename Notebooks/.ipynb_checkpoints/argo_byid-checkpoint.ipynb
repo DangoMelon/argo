{
 "cells": [
  {
   "cell_type": "code",
   "execution_count": 1,
   "metadata": {},
   "outputs": [],
   "source": [
    "%%capture\n",
    "from dask_jobqueue import SLURMCluster\n",
    "from dask.distributed import Client\n",
    "import xarray as xr\n",
    "import os\n",
    "import time\n",
    "import numpy as np"
   ]
  },
  {
   "cell_type": "code",
   "execution_count": 2,
   "metadata": {},
   "outputs": [
    {
     "data": {
      "application/vnd.jupyter.widget-view+json": {
       "model_id": "c815f64f9972491b8ee71ae3aff76730",
       "version_major": 2,
       "version_minor": 0
      },
      "text/plain": [
       "VBox(children=(HTML(value='<h2>SLURMCluster</h2>'), HBox(children=(HTML(value='\\n<div>\\n  <style scoped>\\n    …"
      ]
     },
     "metadata": {},
     "output_type": "display_data"
    }
   ],
   "source": [
    "cluster = SLURMCluster(queue='mpi_short1', cores=24, memory='24GB', processes=6)\n",
    "cluster"
   ]
  },
  {
   "cell_type": "code",
   "execution_count": 3,
   "metadata": {},
   "outputs": [
    {
     "data": {
      "text/html": [
       "<table style=\"border: 2px solid white;\">\n",
       "<tr>\n",
       "<td style=\"vertical-align: top; border: 0px solid white\">\n",
       "<h3>Client</h3>\n",
       "<ul>\n",
       "  <li><b>Scheduler: </b>tcp://192.168.0.12:35068\n",
       "  <li><b>Dashboard: </b><a href='http://192.168.0.12:8787/status' target='_blank'>http://192.168.0.12:8787/status</a>\n",
       "</ul>\n",
       "</td>\n",
       "<td style=\"vertical-align: top; border: 0px solid white\">\n",
       "<h3>Cluster</h3>\n",
       "<ul>\n",
       "  <li><b>Workers: </b>6</li>\n",
       "  <li><b>Cores: </b>24</li>\n",
       "  <li><b>Memory: </b>24.00 GB</li>\n",
       "</ul>\n",
       "</td>\n",
       "</tr>\n",
       "</table>"
      ],
      "text/plain": [
       "<Client: scheduler='tcp://192.168.0.12:35068' processes=6 cores=24>"
      ]
     },
     "execution_count": 3,
     "metadata": {},
     "output_type": "execute_result"
    }
   ],
   "source": [
    "client = Client(cluster)\n",
    "client"
   ]
  },
  {
   "cell_type": "code",
   "execution_count": 236,
   "metadata": {},
   "outputs": [],
   "source": [
    "import os\n",
    "import pandas as pd\n",
    "def get_dataframe(file):\n",
    "    open_file = xr.open_dataset(file)\n",
    "    mask = (open_file.LATITUDE < 0.5) & (open_file.LATITUDE>-0.5)\n",
    "    if True not in mask:\n",
    "        return False\n",
    "    platf = open_file.PLATFORM_NUMBER.load()[mask].astype(int).data\n",
    "    lon = open_file.LONGITUDE[mask].data\n",
    "    lon = np.where(lon<0,lon+360,lon)\n",
    "    date = np.array([lon])\n",
    "    data = xr.DataArray(date,coords=[[open_file.JULD[0].data.astype('datetime64[D]')],platf],dims=['time','prof_id'])\n",
    "    open_file.close()\n",
    "    data.name='prof_lon'\n",
    "    return data.to_dataframe()"
   ]
  },
  {
   "cell_type": "code",
   "execution_count": 174,
   "metadata": {},
   "outputs": [
    {
     "data": {
      "text/plain": [
       "7181"
      ]
     },
     "execution_count": 174,
     "metadata": {},
     "output_type": "execute_result"
    }
   ],
   "source": [
    "ARGO_DIR = '/data/datos/ARGO/data/'\n",
    "argo_files = [os.path.join(ARGO_DIR,x) for x in os.listdir(ARGO_DIR) if x.endswith('_prof.nc')]\n",
    "len(argo_files)"
   ]
  },
  {
   "cell_type": "code",
   "execution_count": 237,
   "metadata": {},
   "outputs": [],
   "source": [
    "dframe = []\n",
    "for file in argo_files[-365:]:\n",
    "    data = get_dataframe(file)\n",
    "    if data is not False:\n",
    "        dframe.append(data)\n",
    "dframe = pd.concat(dframe)"
   ]
  },
  {
   "cell_type": "code",
   "execution_count": 238,
   "metadata": {},
   "outputs": [
    {
     "data": {
      "text/html": [
       "<div>\n",
       "<style scoped>\n",
       "    .dataframe tbody tr th:only-of-type {\n",
       "        vertical-align: middle;\n",
       "    }\n",
       "\n",
       "    .dataframe tbody tr th {\n",
       "        vertical-align: top;\n",
       "    }\n",
       "\n",
       "    .dataframe thead th {\n",
       "        text-align: right;\n",
       "    }\n",
       "</style>\n",
       "<table border=\"1\" class=\"dataframe\">\n",
       "  <thead>\n",
       "    <tr style=\"text-align: right;\">\n",
       "      <th></th>\n",
       "      <th>time</th>\n",
       "      <th>prof_id</th>\n",
       "      <th>prof_lon</th>\n",
       "    </tr>\n",
       "  </thead>\n",
       "  <tbody>\n",
       "    <tr>\n",
       "      <th>0</th>\n",
       "      <td>2018-01-25</td>\n",
       "      <td>5904865</td>\n",
       "      <td>152.62400</td>\n",
       "    </tr>\n",
       "    <tr>\n",
       "      <th>1</th>\n",
       "      <td>2018-01-26</td>\n",
       "      <td>5904504</td>\n",
       "      <td>205.73929</td>\n",
       "    </tr>\n",
       "    <tr>\n",
       "      <th>2</th>\n",
       "      <td>2018-01-26</td>\n",
       "      <td>5904499</td>\n",
       "      <td>234.36385</td>\n",
       "    </tr>\n",
       "    <tr>\n",
       "      <th>3</th>\n",
       "      <td>2018-01-26</td>\n",
       "      <td>5904947</td>\n",
       "      <td>197.63700</td>\n",
       "    </tr>\n",
       "    <tr>\n",
       "      <th>4</th>\n",
       "      <td>2018-01-26</td>\n",
       "      <td>5904552</td>\n",
       "      <td>157.60600</td>\n",
       "    </tr>\n",
       "  </tbody>\n",
       "</table>\n",
       "</div>"
      ],
      "text/plain": [
       "        time  prof_id   prof_lon\n",
       "0 2018-01-25  5904865  152.62400\n",
       "1 2018-01-26  5904504  205.73929\n",
       "2 2018-01-26  5904499  234.36385\n",
       "3 2018-01-26  5904947  197.63700\n",
       "4 2018-01-26  5904552  157.60600"
      ]
     },
     "execution_count": 238,
     "metadata": {},
     "output_type": "execute_result"
    }
   ],
   "source": [
    "dframe = dframe.reset_index()\n",
    "dframe.head()"
   ]
  },
  {
   "cell_type": "code",
   "execution_count": 6,
   "metadata": {},
   "outputs": [
    {
     "data": {
      "text/plain": [
       "<xarray.Dataset>\n",
       "Dimensions:                       (N_CALIB: 1, N_HISTORY: 0, N_LEVELS: 1097, N_PARAM: 3, N_PROF: 216)\n",
       "Dimensions without coordinates: N_CALIB, N_HISTORY, N_LEVELS, N_PARAM, N_PROF\n",
       "Data variables:\n",
       "    DATA_TYPE                     object ...\n",
       "    FORMAT_VERSION                object ...\n",
       "    HANDBOOK_VERSION              object ...\n",
       "    REFERENCE_DATE_TIME           object ...\n",
       "    DATE_CREATION                 object ...\n",
       "    DATE_UPDATE                   object ...\n",
       "    PLATFORM_NUMBER               (N_PROF) object ...\n",
       "    PROJECT_NAME                  (N_PROF) object ...\n",
       "    PI_NAME                       (N_PROF) object ...\n",
       "    STATION_PARAMETERS            (N_PROF, N_PARAM) object ...\n",
       "    CYCLE_NUMBER                  (N_PROF) float64 ...\n",
       "    DIRECTION                     (N_PROF) object ...\n",
       "    DATA_CENTRE                   (N_PROF) object ...\n",
       "    DC_REFERENCE                  (N_PROF) object ...\n",
       "    DATA_STATE_INDICATOR          (N_PROF) object ...\n",
       "    DATA_MODE                     (N_PROF) object ...\n",
       "    PLATFORM_TYPE                 (N_PROF) object ...\n",
       "    FLOAT_SERIAL_NO               (N_PROF) object ...\n",
       "    FIRMWARE_VERSION              (N_PROF) object ...\n",
       "    WMO_INST_TYPE                 (N_PROF) object ...\n",
       "    JULD                          (N_PROF) datetime64[ns] ...\n",
       "    JULD_QC                       (N_PROF) object ...\n",
       "    JULD_LOCATION                 (N_PROF) datetime64[ns] ...\n",
       "    LATITUDE                      (N_PROF) float64 ...\n",
       "    LONGITUDE                     (N_PROF) float64 ...\n",
       "    POSITION_QC                   (N_PROF) object ...\n",
       "    POSITIONING_SYSTEM            (N_PROF) object ...\n",
       "    PROFILE_PRES_QC               (N_PROF) object ...\n",
       "    PROFILE_TEMP_QC               (N_PROF) object ...\n",
       "    PROFILE_PSAL_QC               (N_PROF) object ...\n",
       "    VERTICAL_SAMPLING_SCHEME      (N_PROF) object ...\n",
       "    CONFIG_MISSION_NUMBER         (N_PROF) float64 ...\n",
       "    PRES                          (N_PROF, N_LEVELS) float32 ...\n",
       "    PRES_QC                       (N_PROF, N_LEVELS) object ...\n",
       "    PRES_ADJUSTED                 (N_PROF, N_LEVELS) float32 ...\n",
       "    PRES_ADJUSTED_QC              (N_PROF, N_LEVELS) object ...\n",
       "    PRES_ADJUSTED_ERROR           (N_PROF, N_LEVELS) float32 ...\n",
       "    TEMP                          (N_PROF, N_LEVELS) float32 ...\n",
       "    TEMP_QC                       (N_PROF, N_LEVELS) object ...\n",
       "    TEMP_ADJUSTED                 (N_PROF, N_LEVELS) float32 ...\n",
       "    TEMP_ADJUSTED_QC              (N_PROF, N_LEVELS) object ...\n",
       "    TEMP_ADJUSTED_ERROR           (N_PROF, N_LEVELS) float32 ...\n",
       "    PSAL                          (N_PROF, N_LEVELS) float32 ...\n",
       "    PSAL_QC                       (N_PROF, N_LEVELS) object ...\n",
       "    PSAL_ADJUSTED                 (N_PROF, N_LEVELS) float32 ...\n",
       "    PSAL_ADJUSTED_QC              (N_PROF, N_LEVELS) object ...\n",
       "    PSAL_ADJUSTED_ERROR           (N_PROF, N_LEVELS) float32 ...\n",
       "    PARAMETER                     (N_PROF, N_CALIB, N_PARAM) object ...\n",
       "    SCIENTIFIC_CALIB_EQUATION     (N_PROF, N_CALIB, N_PARAM) object ...\n",
       "    SCIENTIFIC_CALIB_COEFFICIENT  (N_PROF, N_CALIB, N_PARAM) object ...\n",
       "    SCIENTIFIC_CALIB_COMMENT      (N_PROF, N_CALIB, N_PARAM) object ...\n",
       "    SCIENTIFIC_CALIB_DATE         (N_PROF, N_CALIB, N_PARAM) object ...\n",
       "    HISTORY_INSTITUTION           (N_HISTORY, N_PROF) object ...\n",
       "    HISTORY_STEP                  (N_HISTORY, N_PROF) object ...\n",
       "    HISTORY_SOFTWARE              (N_HISTORY, N_PROF) object ...\n",
       "    HISTORY_SOFTWARE_RELEASE      (N_HISTORY, N_PROF) object ...\n",
       "    HISTORY_REFERENCE             (N_HISTORY, N_PROF) object ...\n",
       "    HISTORY_DATE                  (N_HISTORY, N_PROF) object ...\n",
       "    HISTORY_ACTION                (N_HISTORY, N_PROF) object ...\n",
       "    HISTORY_PARAMETER             (N_HISTORY, N_PROF) object ...\n",
       "    HISTORY_START_PRES            (N_HISTORY, N_PROF) float32 ...\n",
       "    HISTORY_STOP_PRES             (N_HISTORY, N_PROF) float32 ...\n",
       "    HISTORY_PREVIOUS_VALUE        (N_HISTORY, N_PROF) float32 ...\n",
       "    HISTORY_QCTEST                (N_HISTORY, N_PROF) object ...\n",
       "Attributes:\n",
       "    title:                Argo float vertical profile\n",
       "    institution:          FR GDAC\n",
       "    source:               Argo float\n",
       "    history:              2019-01-17T07:18:24Z creation\n",
       "    references:           http://www.argodatamgt.org/Documentation\n",
       "    user_manual_version:  3.1\n",
       "    Conventions:          Argo-3.1 CF-1.6\n",
       "    featureType:          trajectoryProfile"
      ]
     },
     "execution_count": 6,
     "metadata": {},
     "output_type": "execute_result"
    }
   ],
   "source": [
    "argo_data = xr.open_dataset('/data/datos/ARGO/data/20190101_prof.nc')\n",
    "argo_data"
   ]
  },
  {
   "cell_type": "code",
   "execution_count": 38,
   "metadata": {},
   "outputs": [
    {
     "data": {
      "text/plain": [
       "<xarray.DataArray 'LATITUDE' (N_PROF: 216)>\n",
       "array([False, False, False, ..., False, False, False])\n",
       "Dimensions without coordinates: N_PROF"
      ]
     },
     "execution_count": 38,
     "metadata": {},
     "output_type": "execute_result"
    }
   ],
   "source": [
    "lat_mask = (argo_data.LATITUDE < 2) & (argo_data.LATITUDE>-2)\n",
    "lat_mask"
   ]
  },
  {
   "cell_type": "code",
   "execution_count": 39,
   "metadata": {},
   "outputs": [
    {
     "data": {
      "text/plain": [
       "<xarray.DataArray 'TEMP' (N_PROF: 6, N_LEVELS: 1097)>\n",
       "array([[25.183, 25.165, 25.166, ...,    nan,    nan,    nan],\n",
       "       [30.438, 30.438, 30.438, ...,    nan,    nan,    nan],\n",
       "       [27.742, 27.738, 27.739, ...,    nan,    nan,    nan],\n",
       "       [25.564, 25.564, 25.565, ...,    nan,    nan,    nan],\n",
       "       [29.477, 29.343, 29.308, ...,    nan,    nan,    nan],\n",
       "       [25.995, 25.992, 25.987, ...,    nan,    nan,    nan]], dtype=float32)\n",
       "Dimensions without coordinates: N_PROF, N_LEVELS\n",
       "Attributes:\n",
       "    long_name:       Sea temperature in-situ ITS-90 scale\n",
       "    standard_name:   sea_water_temperature\n",
       "    units:           degree_Celsius\n",
       "    valid_min:       -2.5\n",
       "    valid_max:       40.0\n",
       "    C_format:        %9.3f\n",
       "    FORTRAN_format:  F9.3\n",
       "    resolution:      0.001"
      ]
     },
     "execution_count": 39,
     "metadata": {},
     "output_type": "execute_result"
    }
   ],
   "source": [
    "argo_data.TEMP.load()[lat_mask]"
   ]
  },
  {
   "cell_type": "code",
   "execution_count": 42,
   "metadata": {},
   "outputs": [
    {
     "data": {
      "text/plain": [
       "<xarray.DataArray 'LONGITUDE' (N_PROF: 6)>\n",
       "array([-119.78126,  172.864  , -155.757  , -124.885  ,  142.143  , -132.555  ])\n",
       "Dimensions without coordinates: N_PROF\n",
       "Attributes:\n",
       "    long_name:      Longitude of the station, best estimate\n",
       "    standard_name:  longitude\n",
       "    units:          degree_east\n",
       "    valid_min:      -180.0\n",
       "    valid_max:      180.0\n",
       "    axis:           X"
      ]
     },
     "execution_count": 42,
     "metadata": {},
     "output_type": "execute_result"
    }
   ],
   "source": [
    "argo_data.LATITUDE[lat_mask]\n",
    "argo_data.LONGITUDE[lat_mask]"
   ]
  },
  {
   "cell_type": "code",
   "execution_count": 124,
   "metadata": {},
   "outputs": [],
   "source": [
    "# ix = np.argsort(argo_data.PLATFORM_NUMBER[lat_mask].astype(int).data)\n",
    "platf = argo_data.PLATFORM_NUMBER[lat_mask].astype(int).data\n",
    "lon = argo_data.LONGITUDE[lat_mask].data"
   ]
  },
  {
   "cell_type": "code",
   "execution_count": 224,
   "metadata": {},
   "outputs": [
    {
     "data": {
      "text/plain": [
       "array([   0.     , -119.78126,  172.864  , -155.757  , -124.885  ,\n",
       "        142.143  , -132.555  ])"
      ]
     },
     "execution_count": 224,
     "metadata": {},
     "output_type": "execute_result"
    }
   ],
   "source": [
    "np.concatenate(([0],lon))"
   ]
  },
  {
   "cell_type": "code",
   "execution_count": 196,
   "metadata": {},
   "outputs": [
    {
     "data": {
      "text/plain": [
       "array([1902197, 3901148, 3901151, 3901152, 3901153, 3901154, 3901157,\n",
       "       3901159, 3901160, 3901162, 3901163, 3901164, 3901168, 3901171,\n",
       "       3901202, 3901233, 3901261, 3901299, 3901303, 4901553, 4901568,\n",
       "       4901656, 4902906, 4902907, 4903176, 5903870, 5904044, 5904047,\n",
       "       5904048, 5904052, 5904190, 5904273, 5904276, 5904277, 5904278,\n",
       "       5904285, 5904286, 5904288, 5904295, 5904296, 5904307, 5904343,\n",
       "       5904377, 5904391, 5904496, 5904497, 5904498, 5904499, 5904500,\n",
       "       5904501, 5904502, 5904503, 5904504, 5904506, 5904507, 5904508,\n",
       "       5904510, 5904513, 5904515, 5904517, 5904521, 5904522, 5904523,\n",
       "       5904524, 5904531, 5904545, 5904552, 5904553, 5904556, 5904558,\n",
       "       5904578, 5904604, 5904708, 5904737, 5904738, 5904745, 5904863,\n",
       "       5904865, 5904938, 5904943, 5904945, 5904946, 5904947, 5905285,\n",
       "       5905289, 5905291, 5905293, 5905294, 5905304, 5905313, 5905314,\n",
       "       5905316, 5905667, 5905668, 5905673, 5905727, 5905971, 6902672])"
      ]
     },
     "execution_count": 196,
     "metadata": {},
     "output_type": "execute_result"
    }
   ],
   "source": [
    "np.unique(dframe.prof_id.values)"
   ]
  },
  {
   "cell_type": "code",
   "execution_count": 297,
   "metadata": {},
   "outputs": [
    {
     "data": {
      "image/png": "[encoded data removed]",
      "text/plain": [
       "<Figure size 432x1080 with 2 Axes>"
      ]
     },
     "metadata": {},
     "output_type": "display_data"
    }
   ],
   "source": [
    "import matplotlib.pyplot as plt\n",
    "import matplotlib.dates as mdates\n",
    "import matplotlib as mpl\n",
    "\n",
    "plt.style.use('seaborn-paper')\n",
    "yearsFmt = mdates.DateFormatter('%Y-%b')\n",
    "monthFmt = mdates.MonthLocator\n",
    "\n",
    "fig, ax = plt.subplots(1,1, figsize=(7,15))\n",
    "cmap = plt.cm.gist_ncar\n",
    "cmaplist = [cmap(i) for i in range(cmap.N)]\n",
    "cmap = cmap.from_list('Custom cmap', cmaplist, cmap.N)\n",
    "\n",
    "bounds = np.concatenate(([0],np.unique(dframe.prof_id.values)))\n",
    "norm = mpl.colors.BoundaryNorm(bounds, cmap.N)\n",
    "scat = plt.scatter(dframe.prof_lon.values,dframe.time.values,c=dframe.prof_id.values,marker='s', cmap=cmap,norm=norm)\n",
    "cb = plt.colorbar(scat,ticks=bounds,boundaries=bounds)\n",
    "cb.set_label('Platform Number')\n",
    "\n",
    "ax.set_ylim(dframe.time.values.min(),dframe.time.values.max())\n",
    "ax.invert_yaxis()\n",
    "\n",
    "fig.canvas.draw()\n",
    "labels = [item.get_text() for item in ax.get_xticklabels()]\n",
    "labels = ['{}°E'.format(lab) if int(lab)<180 else '{}°W'.format(int(lab)-360) if int(lab)>180 else lab for lab in labels ]\n",
    "ax.set_xticklabels(labels)\n",
    "ax.yaxis.set_major_formatter(yearsFmt)\n",
    "\n",
    "ax.set_title('ARGO Floats measurments by Platform Number\\n[0.5°S - 0.5°N]')\n",
    "fig.tight_layout()\n",
    "fig.savefig('/home/grivera/ARGO/argo_byid.png',dpi=400)"
   ]
  },
  {
   "cell_type": "code",
   "execution_count": 265,
   "metadata": {},
   "outputs": [
    {
     "data": {
      "text/plain": [
       "0       5904865\n",
       "1       5904504\n",
       "2       5904499\n",
       "3       5904947\n",
       "4       5904552\n",
       "5       5904498\n",
       "6       3901261\n",
       "7       4901651\n",
       "8       5904497\n",
       "9       5904523\n",
       "10      3901159\n",
       "11      5904277\n",
       "12      5904737\n",
       "13      5904391\n",
       "14      5904190\n",
       "15      5904502\n",
       "16      3900674\n",
       "17      5905289\n",
       "18      5905293\n",
       "19      5904506\n",
       "20      5903869\n",
       "21      3901261\n",
       "22      5904287\n",
       "23      5904501\n",
       "24      5904285\n",
       "25      5904513\n",
       "26      3901163\n",
       "27      5903565\n",
       "28      5904286\n",
       "29      5904507\n",
       "         ...   \n",
       "971     5904307\n",
       "972     5904553\n",
       "973     5904498\n",
       "974     5904737\n",
       "975     4901553\n",
       "976     5904391\n",
       "977     5904513\n",
       "978     3901153\n",
       "979     5904708\n",
       "980     5904502\n",
       "981     3901168\n",
       "982     5904515\n",
       "983     5904273\n",
       "984     3901163\n",
       "985     5904503\n",
       "986     5903870\n",
       "987     3901159\n",
       "988     5904496\n",
       "989     5904510\n",
       "990     5905667\n",
       "991     3901299\n",
       "992     5904510\n",
       "993     3901162\n",
       "994     4901656\n",
       "995     5904947\n",
       "996     5904552\n",
       "997     3901159\n",
       "998     5904391\n",
       "999     3901162\n",
       "1000    5904307\n",
       "Name: prof_id, Length: 1001, dtype: int64"
      ]
     },
     "execution_count": 265,
     "metadata": {},
     "output_type": "execute_result"
    }
   ],
   "source": [
    "dframe.prof_id"
   ]
  },
  {
   "cell_type": "code",
   "execution_count": 255,
   "metadata": {},
   "outputs": [
    {
     "data": {
      "text/plain": [
       "['100°E',\n",
       " '125°E',\n",
       " '150°E',\n",
       " '175°E',\n",
       " '-160°W',\n",
       " '-135°W',\n",
       " '-110°W',\n",
       " '-85°W',\n",
       " '-60°W']"
      ]
     },
     "execution_count": 255,
     "metadata": {},
     "output_type": "execute_result"
    }
   ],
   "source": [
    "labels = [item.get_text() for item in ax.get_xticklabels()]\n",
    "labels = ['{}°E'.format(lab) if int(lab)<180 else '{}°W'.format(int(lab)-360) for lab in labels ]#ax.set_xticklabels(labels)\n",
    "labels"
   ]
  },
  {
   "cell_type": "code",
   "execution_count": 131,
   "metadata": {},
   "outputs": [
    {
     "data": {
      "text/plain": [
       "numpy.datetime64('2019-01-01')"
      ]
     },
     "execution_count": 131,
     "metadata": {},
     "output_type": "execute_result"
    }
   ],
   "source": [
    "argo_data.JULD[0].data.astype('datetime64[D]')"
   ]
  },
  {
   "cell_type": "code",
   "execution_count": 134,
   "metadata": {},
   "outputs": [
    {
     "data": {
      "text/plain": [
       "<xarray.DataArray (time: 1, prof_id: 6)>\n",
       "array([[-119.78126,  172.864  , -155.757  , -124.885  ,  142.143  ,\n",
       "        -132.555  ]])\n",
       "Coordinates:\n",
       "  * time     (time) datetime64[ns] 2019-01-01\n",
       "  * prof_id  (prof_id) int64 3901160 4901656 5904947 5904938 5904552 5904276"
      ]
     },
     "execution_count": 134,
     "metadata": {},
     "output_type": "execute_result"
    }
   ],
   "source": [
    "data = xr.DataArray(date,coords=[[argo_data.JULD[0].data.astype('datetime64[D]')],platf],dims=['time','prof_id'])\n",
    "data"
   ]
  },
  {
   "cell_type": "code",
   "execution_count": 139,
   "metadata": {},
   "outputs": [
    {
     "data": {
      "text/html": [
       "<div>\n",
       "<style scoped>\n",
       "    .dataframe tbody tr th:only-of-type {\n",
       "        vertical-align: middle;\n",
       "    }\n",
       "\n",
       "    .dataframe tbody tr th {\n",
       "        vertical-align: top;\n",
       "    }\n",
       "\n",
       "    .dataframe thead th {\n",
       "        text-align: right;\n",
       "    }\n",
       "</style>\n",
       "<table border=\"1\" class=\"dataframe\">\n",
       "  <thead>\n",
       "    <tr style=\"text-align: right;\">\n",
       "      <th></th>\n",
       "      <th></th>\n",
       "      <th>prof_lon</th>\n",
       "    </tr>\n",
       "    <tr>\n",
       "      <th>time</th>\n",
       "      <th>prof_id</th>\n",
       "      <th></th>\n",
       "    </tr>\n",
       "  </thead>\n",
       "  <tbody>\n",
       "    <tr>\n",
       "      <th rowspan=\"6\" valign=\"top\">2019-01-01</th>\n",
       "      <th>3901160</th>\n",
       "      <td>-119.78126</td>\n",
       "    </tr>\n",
       "    <tr>\n",
       "      <th>4901656</th>\n",
       "      <td>172.86400</td>\n",
       "    </tr>\n",
       "    <tr>\n",
       "      <th>5904947</th>\n",
       "      <td>-155.75700</td>\n",
       "    </tr>\n",
       "    <tr>\n",
       "      <th>5904938</th>\n",
       "      <td>-124.88500</td>\n",
       "    </tr>\n",
       "    <tr>\n",
       "      <th>5904552</th>\n",
       "      <td>142.14300</td>\n",
       "    </tr>\n",
       "    <tr>\n",
       "      <th>5904276</th>\n",
       "      <td>-132.55500</td>\n",
       "    </tr>\n",
       "  </tbody>\n",
       "</table>\n",
       "</div>"
      ],
      "text/plain": [
       "                     prof_lon\n",
       "time       prof_id           \n",
       "2019-01-01 3901160 -119.78126\n",
       "           4901656  172.86400\n",
       "           5904947 -155.75700\n",
       "           5904938 -124.88500\n",
       "           5904552  142.14300\n",
       "           5904276 -132.55500"
      ]
     },
     "execution_count": 139,
     "metadata": {},
     "output_type": "execute_result"
    }
   ],
   "source": [
    "data.name='prof_lon'\n",
    "df = data.to_dataframe()\n",
    "df"
   ]
  },
  {
   "cell_type": "code",
   "execution_count": 153,
   "metadata": {},
   "outputs": [
    {
     "data": {
      "text/html": [
       "<div>\n",
       "<style scoped>\n",
       "    .dataframe tbody tr th:only-of-type {\n",
       "        vertical-align: middle;\n",
       "    }\n",
       "\n",
       "    .dataframe tbody tr th {\n",
       "        vertical-align: top;\n",
       "    }\n",
       "\n",
       "    .dataframe thead th {\n",
       "        text-align: right;\n",
       "    }\n",
       "</style>\n",
       "<table border=\"1\" class=\"dataframe\">\n",
       "  <thead>\n",
       "    <tr style=\"text-align: right;\">\n",
       "      <th></th>\n",
       "      <th>time</th>\n",
       "      <th>prof_id</th>\n",
       "      <th>prof_lon</th>\n",
       "    </tr>\n",
       "  </thead>\n",
       "  <tbody>\n",
       "    <tr>\n",
       "      <th>0</th>\n",
       "      <td>2019-01-01</td>\n",
       "      <td>3901160</td>\n",
       "      <td>-119.78126</td>\n",
       "    </tr>\n",
       "    <tr>\n",
       "      <th>1</th>\n",
       "      <td>2019-01-01</td>\n",
       "      <td>4901656</td>\n",
       "      <td>172.86400</td>\n",
       "    </tr>\n",
       "    <tr>\n",
       "      <th>2</th>\n",
       "      <td>2019-01-01</td>\n",
       "      <td>5904947</td>\n",
       "      <td>-155.75700</td>\n",
       "    </tr>\n",
       "    <tr>\n",
       "      <th>3</th>\n",
       "      <td>2019-01-01</td>\n",
       "      <td>5904938</td>\n",
       "      <td>-124.88500</td>\n",
       "    </tr>\n",
       "    <tr>\n",
       "      <th>4</th>\n",
       "      <td>2019-01-01</td>\n",
       "      <td>5904552</td>\n",
       "      <td>142.14300</td>\n",
       "    </tr>\n",
       "    <tr>\n",
       "      <th>5</th>\n",
       "      <td>2019-01-01</td>\n",
       "      <td>5904276</td>\n",
       "      <td>-132.55500</td>\n",
       "    </tr>\n",
       "  </tbody>\n",
       "</table>\n",
       "</div>"
      ],
      "text/plain": [
       "        time  prof_id   prof_lon\n",
       "0 2019-01-01  3901160 -119.78126\n",
       "1 2019-01-01  4901656  172.86400\n",
       "2 2019-01-01  5904947 -155.75700\n",
       "3 2019-01-01  5904938 -124.88500\n",
       "4 2019-01-01  5904552  142.14300\n",
       "5 2019-01-01  5904276 -132.55500"
      ]
     },
     "execution_count": 153,
     "metadata": {},
     "output_type": "execute_result"
    }
   ],
   "source": [
    "df2 = df.reset_index()\n",
    "df2"
   ]
  },
  {
   "cell_type": "code",
   "execution_count": 193,
   "metadata": {},
   "outputs": [
    {
     "data": {
      "text/plain": [
       "<matplotlib.collections.PathCollection at 0x2aef7ae91a20>"
      ]
     },
     "execution_count": 193,
     "metadata": {},
     "output_type": "execute_result"
    },
    {
     "data": {
      "image/png": "[encoded data removed]",
      "text/plain": [
       "<Figure size 432x288 with 1 Axes>"
      ]
     },
     "metadata": {
      "needs_background": "light"
     },
     "output_type": "display_data"
    }
   ],
   "source": [
    "plt.scatter(dframe.prof_lon.values,dframe.time.values,c=dframe.prof_id.values)"
   ]
  },
  {
   "cell_type": "code",
   "execution_count": 168,
   "metadata": {},
   "outputs": [
    {
     "data": {
      "text/plain": [
       "array([3901160, 4901656, 5904947, 5904938, 5904552, 5904276])"
      ]
     },
     "execution_count": 168,
     "metadata": {},
     "output_type": "execute_result"
    }
   ],
   "source": [
    "df2.prof_id.values"
   ]
  }
 ],
 "metadata": {
  "kernelspec": {
   "display_name": "Python 3",
   "language": "python",
   "name": "python3"
  },
  "language_info": {
   "codemirror_mode": {
    "name": "ipython",
    "version": 3
   },
   "file_extension": ".py",
   "mimetype": "text/x-python",
   "name": "python",
   "nbconvert_exporter": "python",
   "pygments_lexer": "ipython3",
   "version": "3.6.7"
  }
 },
 "nbformat": 4,
 "nbformat_minor": 2
}
