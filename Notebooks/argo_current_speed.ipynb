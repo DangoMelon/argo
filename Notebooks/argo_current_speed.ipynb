{
 "cells": [
  {
   "cell_type": "code",
   "execution_count": 209,
   "metadata": {},
   "outputs": [],
   "source": [
    "%%capture\n",
    "import xarray as xr\n",
    "import os\n",
    "import time\n",
    "import numpy as np\n",
    "import gsw\n",
    "import pyproj\n",
    "import pandas as pd\n",
    "from scipy.interpolate import interp1d"
   ]
  },
  {
   "cell_type": "code",
   "execution_count": 2,
   "metadata": {},
   "outputs": [
    {
     "data": {
      "text/plain": [
       "<xarray.Dataset>\n",
       "Dimensions:                       (N_CALIB: 1, N_HISTORY: 0, N_LEVELS: 1561, N_PARAM: 3, N_PROF: 215)\n",
       "Dimensions without coordinates: N_CALIB, N_HISTORY, N_LEVELS, N_PARAM, N_PROF\n",
       "Data variables:\n",
       "    DATA_TYPE                     object ...\n",
       "    FORMAT_VERSION                object ...\n",
       "    HANDBOOK_VERSION              object ...\n",
       "    REFERENCE_DATE_TIME           object ...\n",
       "    DATE_CREATION                 object ...\n",
       "    DATE_UPDATE                   object ...\n",
       "    PLATFORM_NUMBER               (N_PROF) object ...\n",
       "    PROJECT_NAME                  (N_PROF) object ...\n",
       "    PI_NAME                       (N_PROF) object ...\n",
       "    STATION_PARAMETERS            (N_PROF, N_PARAM) object ...\n",
       "    CYCLE_NUMBER                  (N_PROF) float64 ...\n",
       "    DIRECTION                     (N_PROF) object ...\n",
       "    DATA_CENTRE                   (N_PROF) object ...\n",
       "    DC_REFERENCE                  (N_PROF) object ...\n",
       "    DATA_STATE_INDICATOR          (N_PROF) object ...\n",
       "    DATA_MODE                     (N_PROF) object ...\n",
       "    PLATFORM_TYPE                 (N_PROF) object ...\n",
       "    FLOAT_SERIAL_NO               (N_PROF) object ...\n",
       "    FIRMWARE_VERSION              (N_PROF) object ...\n",
       "    WMO_INST_TYPE                 (N_PROF) object ...\n",
       "    JULD                          (N_PROF) datetime64[ns] ...\n",
       "    JULD_QC                       (N_PROF) object ...\n",
       "    JULD_LOCATION                 (N_PROF) datetime64[ns] ...\n",
       "    LATITUDE                      (N_PROF) float64 ...\n",
       "    LONGITUDE                     (N_PROF) float64 ...\n",
       "    POSITION_QC                   (N_PROF) object ...\n",
       "    POSITIONING_SYSTEM            (N_PROF) object ...\n",
       "    PROFILE_PRES_QC               (N_PROF) object ...\n",
       "    PROFILE_TEMP_QC               (N_PROF) object ...\n",
       "    PROFILE_PSAL_QC               (N_PROF) object ...\n",
       "    VERTICAL_SAMPLING_SCHEME      (N_PROF) object ...\n",
       "    CONFIG_MISSION_NUMBER         (N_PROF) float64 ...\n",
       "    PRES                          (N_PROF, N_LEVELS) float32 ...\n",
       "    PRES_QC                       (N_PROF, N_LEVELS) object ...\n",
       "    PRES_ADJUSTED                 (N_PROF, N_LEVELS) float32 ...\n",
       "    PRES_ADJUSTED_QC              (N_PROF, N_LEVELS) object ...\n",
       "    PRES_ADJUSTED_ERROR           (N_PROF, N_LEVELS) float32 ...\n",
       "    TEMP                          (N_PROF, N_LEVELS) float32 ...\n",
       "    TEMP_QC                       (N_PROF, N_LEVELS) object ...\n",
       "    TEMP_ADJUSTED                 (N_PROF, N_LEVELS) float32 ...\n",
       "    TEMP_ADJUSTED_QC              (N_PROF, N_LEVELS) object ...\n",
       "    TEMP_ADJUSTED_ERROR           (N_PROF, N_LEVELS) float32 ...\n",
       "    PSAL                          (N_PROF, N_LEVELS) float32 ...\n",
       "    PSAL_QC                       (N_PROF, N_LEVELS) object ...\n",
       "    PSAL_ADJUSTED                 (N_PROF, N_LEVELS) float32 ...\n",
       "    PSAL_ADJUSTED_QC              (N_PROF, N_LEVELS) object ...\n",
       "    PSAL_ADJUSTED_ERROR           (N_PROF, N_LEVELS) float32 ...\n",
       "    PARAMETER                     (N_PROF, N_CALIB, N_PARAM) object ...\n",
       "    SCIENTIFIC_CALIB_EQUATION     (N_PROF, N_CALIB, N_PARAM) object ...\n",
       "    SCIENTIFIC_CALIB_COEFFICIENT  (N_PROF, N_CALIB, N_PARAM) object ...\n",
       "    SCIENTIFIC_CALIB_COMMENT      (N_PROF, N_CALIB, N_PARAM) object ...\n",
       "    SCIENTIFIC_CALIB_DATE         (N_PROF, N_CALIB, N_PARAM) object ...\n",
       "    HISTORY_INSTITUTION           (N_HISTORY, N_PROF) object ...\n",
       "    HISTORY_STEP                  (N_HISTORY, N_PROF) object ...\n",
       "    HISTORY_SOFTWARE              (N_HISTORY, N_PROF) object ...\n",
       "    HISTORY_SOFTWARE_RELEASE      (N_HISTORY, N_PROF) object ...\n",
       "    HISTORY_REFERENCE             (N_HISTORY, N_PROF) object ...\n",
       "    HISTORY_DATE                  (N_HISTORY, N_PROF) object ...\n",
       "    HISTORY_ACTION                (N_HISTORY, N_PROF) object ...\n",
       "    HISTORY_PARAMETER             (N_HISTORY, N_PROF) object ...\n",
       "    HISTORY_START_PRES            (N_HISTORY, N_PROF) float32 ...\n",
       "    HISTORY_STOP_PRES             (N_HISTORY, N_PROF) float32 ...\n",
       "    HISTORY_PREVIOUS_VALUE        (N_HISTORY, N_PROF) float32 ...\n",
       "    HISTORY_QCTEST                (N_HISTORY, N_PROF) object ...\n",
       "Attributes:\n",
       "    title:                Argo float vertical profile\n",
       "    institution:          FR GDAC\n",
       "    source:               Argo float\n",
       "    history:              2018-11-26T02:17:08Z creation\n",
       "    references:           http://www.argodatamgt.org/Documentation\n",
       "    user_manual_version:  3.1\n",
       "    Conventions:          Argo-3.1 CF-1.6\n",
       "    featureType:          trajectoryProfile"
      ]
     },
     "execution_count": 2,
     "metadata": {},
     "output_type": "execute_result"
    }
   ],
   "source": [
    "data = xr.open_dataset('/data/datos/ARGO/data/20181109_prof.nc')\n",
    "data"
   ]
  },
  {
   "cell_type": "code",
   "execution_count": 3,
   "metadata": {},
   "outputs": [],
   "source": [
    "prof1=59\n",
    "prof2=66\n",
    "prof1 = data.sel(N_PROF=prof1)\n",
    "prof2 = data.sel(N_PROF=prof2)"
   ]
  },
  {
   "cell_type": "code",
   "execution_count": 190,
   "metadata": {},
   "outputs": [],
   "source": [
    "grid = np.arange(0,2001,10)\n",
    "def current_v(data):\n",
    "    temp = data.TEMP.data\n",
    "    mask = ~np.isnan(temp)\n",
    "    salt = data.PSAL.data\n",
    "    pres = data.PRES.data\n",
    "    lat, lon  = np.repeat(float(data.LATITUDE.data),grid.size), np.repeat(float(data.LONGITUDE.data),grid.size)\n",
    "    depth = -gsw.conversions.z_from_p(pres[mask],np.repeat(lat[0],mask.size)[mask])\n",
    "    \n",
    "    func = interp1d(depth,temp[mask],fill_value='extrapolate')\n",
    "    tmp_grid = np.where(grid>depth[-1],np.nan,grid) #(grid<depth[0]) | (grid>depth[-1])\n",
    "    new_temp = func(tmp_grid)\n",
    "    \n",
    "    funcs = interp1d(depth,salt[mask],fill_value='extrapolate')\n",
    "    new_salt = funcs(tmp_grid)\n",
    "    new_pres = gsw.conversions.p_from_z(-grid,lat)\n",
    "    new_pres[0]=0\n",
    "    new_mask = ~np.isnan(new_temp)\n",
    "\n",
    "    absalt = gsw.conversions.SA_from_SP(new_salt,new_pres,lon,lat)\n",
    "\n",
    "    constpm = gsw.conversions.CT_from_t(absalt,new_temp,new_pres)\n",
    "    svanom = gsw.specvol_anom_standard(absalt,constpm,new_pres)\n",
    "    \n",
    "    svanom_mean = (svanom[:-1]+svanom[1:])/2\n",
    "    dpres = new_pres[1:]-new_pres[:-1]\n",
    "    geop_anom = svanom_mean*dpres*10e4\n",
    "    geop_anom[np.isnan(geop_anom)] = 0\n",
    "    return geop_anom[::-1].cumsum()[::-1]"
   ]
  },
  {
   "cell_type": "code",
   "execution_count": 193,
   "metadata": {},
   "outputs": [],
   "source": [
    "a = current_v(prof1)\n",
    "b = current_v(prof2)\n",
    "diff = a-b"
   ]
  },
  {
   "cell_type": "code",
   "execution_count": 204,
   "metadata": {},
   "outputs": [],
   "source": [
    "lat1, lon1 = float(prof1.LATITUDE.data), float(prof1.LONGITUDE.data)\n",
    "lat2, lon2 = float(prof2.LATITUDE.data), float(prof2.LONGITUDE.data)"
   ]
  },
  {
   "cell_type": "code",
   "execution_count": 207,
   "metadata": {},
   "outputs": [
    {
     "data": {
      "text/plain": [
       "(1.949, -100.087)"
      ]
     },
     "execution_count": 207,
     "metadata": {},
     "output_type": "execute_result"
    }
   ],
   "source": [
    "lat1,lon1"
   ]
  },
  {
   "cell_type": "code",
   "execution_count": 208,
   "metadata": {},
   "outputs": [
    {
     "data": {
      "text/plain": [
       "(1.05842, -104.53703)"
      ]
     },
     "execution_count": 208,
     "metadata": {},
     "output_type": "execute_result"
    }
   ],
   "source": [
    "lat2,lon2"
   ]
  },
  {
   "cell_type": "code",
   "execution_count": 205,
   "metadata": {},
   "outputs": [],
   "source": [
    "geod = pyproj.Geod(ellps='WGS84')\n",
    "azimuth1, azimuth2, distance = geod.inv(lon1, lat1, lon2, lat2)"
   ]
  },
  {
   "cell_type": "code",
   "execution_count": 206,
   "metadata": {},
   "outputs": [
    {
     "data": {
      "text/plain": [
       "504897.13641989895"
      ]
     },
     "execution_count": 206,
     "metadata": {},
     "output_type": "execute_result"
    }
   ],
   "source": [
    "distance"
   ]
  },
  {
   "cell_type": "code",
   "execution_count": 170,
   "metadata": {},
   "outputs": [
    {
     "data": {
      "text/plain": [
       "26.536706085877768"
      ]
     },
     "execution_count": 170,
     "metadata": {},
     "output_type": "execute_result"
    }
   ],
   "source": [
    "gsw.sigma0(gsw.conversions.SA_from_SP(33.71,0,41.91666667,-50.15),gsw.conversions.CT_from_t(gsw.conversions.SA_from_SP(33.71,0,41.91666667,-50.15),t=5.99,p=0))"
   ]
  },
  {
   "cell_type": "code",
   "execution_count": 28,
   "metadata": {},
   "outputs": [
    {
     "data": {
      "text/plain": [
       "26.412002768476214"
      ]
     },
     "execution_count": 28,
     "metadata": {},
     "output_type": "execute_result"
    }
   ],
   "source": [
    "gsw.sigma0(33.71,5.99)"
   ]
  },
  {
   "cell_type": "code",
   "execution_count": 32,
   "metadata": {},
   "outputs": [
    {
     "data": {
      "text/plain": [
       "1.4879012108148446e-06"
      ]
     },
     "execution_count": 32,
     "metadata": {},
     "output_type": "execute_result"
    }
   ],
   "source": [
    "gsw.specvol_anom_standard(gsw.conversions.SA_from_SP(33.71,0,41.91666667,-50.15),gsw.conversions.CT_from_t(gsw.conversions.SA_from_SP(33.71,0,41.91666667,-50.15),t=5.99,p=0),0)"
   ]
  }
 ],
 "metadata": {
  "kernelspec": {
   "display_name": "Python 3",
   "language": "python",
   "name": "python3"
  },
  "language_info": {
   "codemirror_mode": {
    "name": "ipython",
    "version": 3
   },
   "file_extension": ".py",
   "mimetype": "text/x-python",
   "name": "python",
   "nbconvert_exporter": "python",
   "pygments_lexer": "ipython3",
   "version": "3.6.8"
  }
 },
 "nbformat": 4,
 "nbformat_minor": 2
}
