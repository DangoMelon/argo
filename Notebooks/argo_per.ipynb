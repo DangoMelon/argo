{
 "cells": [
  {
   "cell_type": "code",
   "execution_count": 12,
   "metadata": {},
   "outputs": [],
   "source": [
    "%%capture\n",
    "from dask_jobqueue import SLURMCluster\n",
    "from dask.distributed import Client\n",
    "import xarray as xr\n",
    "import os\n",
    "import time\n",
    "import numpy as np\n",
    "import pandas as pd"
   ]
  },
  {
   "cell_type": "code",
   "execution_count": 13,
   "metadata": {},
   "outputs": [
    {
     "ename": "SyntaxError",
     "evalue": "invalid syntax (<ipython-input-13-ffb6e8d6f384>, line 5)",
     "output_type": "error",
     "traceback": [
      "\u001b[0;36m  File \u001b[0;32m\"<ipython-input-13-ffb6e8d6f384>\"\u001b[0;36m, line \u001b[0;32m5\u001b[0m\n\u001b[0;31m    data = {'plaft_num':,'status':,'deployed':,'last_seen':,'f_lat':,'f_lon':,'l_lat':,'l_lon':,'w_time':,}\u001b[0m\n\u001b[0m                        ^\u001b[0m\n\u001b[0;31mSyntaxError\u001b[0m\u001b[0;31m:\u001b[0m invalid syntax\n"
     ]
    }
   ],
   "source": [
    "ARGO_PER_ID = ['3901267','3901266','3901265','3901264',\n",
    "               '3901263','3901262','3901261','3901260',\n",
    "               '3901234','3901233','3901232','3901231']\n",
    "dataframe = pd.DataFrame()\n",
    "data = {'plaft_num':,'status':,'deployed':,'last_seen':,'f_lat':,'f_lon':,'l_lat':,'l_lon':,'w_time':,}\n",
    "for float_id in ARGO_PER_ID:\n",
    "    argo_data = xr.open_dataset('/data/users/grivera/ARGO-traj/{}_Rtraj.nc'.format('3901232'))#float_id))\n",
    "    platf_num.append(argo_data.PLATFORM_NUMBER.data.astype(str))\n",
    "    break\n",
    "argo_data"
   ]
  },
  {
   "cell_type": "code",
   "execution_count": 11,
   "metadata": {},
   "outputs": [
    {
     "data": {
      "text/plain": [
       "array(3901232)"
      ]
     },
     "execution_count": 11,
     "metadata": {},
     "output_type": "execute_result"
    }
   ],
   "source": [
    "argo_data.PLATFORM_NUMBER.data.astype(int)"
   ]
  },
  {
   "cell_type": "code",
   "execution_count": null,
   "metadata": {},
   "outputs": [],
   "source": []
  }
 ],
 "metadata": {
  "kernelspec": {
   "display_name": "Python 3",
   "language": "python",
   "name": "python3"
  },
  "language_info": {
   "codemirror_mode": {
    "name": "ipython",
    "version": 3
   },
   "file_extension": ".py",
   "mimetype": "text/x-python",
   "name": "python",
   "nbconvert_exporter": "python",
   "pygments_lexer": "ipython3",
   "version": "3.6.6"
  }
 },
 "nbformat": 4,
 "nbformat_minor": 2
}
