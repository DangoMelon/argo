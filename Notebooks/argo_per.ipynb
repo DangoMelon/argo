{
 "cells": [
  {
   "cell_type": "code",
   "execution_count": 1,
   "metadata": {},
   "outputs": [],
   "source": [
    "%%capture\n",
    "from dask_jobqueue import SLURMCluster\n",
    "from dask.distributed import Client\n",
    "import xarray as xr\n",
    "import os\n",
    "import time\n",
    "import datetime\n",
    "import collections\n",
    "import numpy as np\n",
    "import pandas as pd"
   ]
  },
  {
   "cell_type": "code",
   "execution_count": 51,
   "metadata": {},
   "outputs": [
    {
     "data": {
      "text/plain": [
       "platf_num                          3901232\n",
       "status                            Inactive\n",
       "deployed     2016-03-12T17:23:00.001857280\n",
       "last_seen    2016-03-16T02:06:00.000223232\n",
       "f_lat                                   -5\n",
       "f_lon                                  -84\n",
       "l_lat                             -4.97648\n",
       "l_lon                              -84.005\n",
       "work_time                  3 days 08:00:00\n",
       "n_cycles                                 5\n",
       "dtype: object"
      ]
     },
     "execution_count": 51,
     "metadata": {},
     "output_type": "execute_result"
    }
   ],
   "source": [
    "ARGO_PER_ID = ['3901267','3901266','3901265','3901264',\n",
    "               '3901263','3901262','3901261','3901260',\n",
    "               '3901234','3901233','3901232','3901231']\n",
    "dataframe = pd.DataFrame()\n",
    "data = {'platf_num':1,'status':1,'deployed':1,'last_seen':1,\n",
    "        'f_lat':1,'f_lon':1,'l_lat':1,'l_lon':1,'work_time':1}\n",
    "data = collections.OrderedDict(data)\n",
    "for float_id in ARGO_PER_ID:\n",
    "    argo_data = xr.open_dataset('/data/users/grivera/ARGO-traj/{}_Rtraj.nc'.format('3901232'))#float_id))\n",
    "    data['platf_num'] = int(argo_data.PLATFORM_NUMBER.data)\n",
    "    data['deployed'] = argo_data.JULD_FIRST_LOCATION.data[0]\n",
    "    data['last_seen'] = argo_data.JULD_LAST_LOCATION.data[-1]\n",
    "    data['f_lat'] = argo_data.LATITUDE.data[0]\n",
    "    data['f_lon'] = argo_data.LONGITUDE.data[0]\n",
    "    mask = ~np.isnan(argo_data.LATITUDE.data)\n",
    "    data['l_lat'] = argo_data.LATITUDE.data[mask][-1]\n",
    "    data['l_lon'] = argo_data.LONGITUDE.data[mask][-1]\n",
    "    data['work_time'] = pd.Timedelta(data['last_seen'] - data['deployed'],'h')\n",
    "    today = datetime.date.today()\n",
    "    status = np.datetime64(today) - data['last_seen']\n",
    "    if status > np.timedelta64(10,'D'):\n",
    "        status = 'Inactive'\n",
    "    else:\n",
    "        status = 'Active'\n",
    "    data['status'] = status\n",
    "    data['n_cycles'] = argo_data.N_CYCLE.data.size\n",
    "    eq_time =\n",
    "    break\n",
    "pd.Series(data)"
   ]
  },
  {
   "cell_type": "code",
   "execution_count": 13,
   "metadata": {},
   "outputs": [
    {
     "data": {
      "text/plain": [
       "3901232"
      ]
     },
     "execution_count": 13,
     "metadata": {},
     "output_type": "execute_result"
    }
   ],
   "source": [
    "int(argo_data.PLATFORM_NUMBER.data)"
   ]
  },
  {
   "cell_type": "code",
   "execution_count": 26,
   "metadata": {},
   "outputs": [
    {
     "data": {
      "text/plain": [
       "<xarray.DataArray 'FORMAT_VERSION' ()>\n",
       "array(b'3.1 ', dtype=object)\n",
       "Attributes:\n",
       "    long_name:  File format version"
      ]
     },
     "execution_count": 26,
     "metadata": {},
     "output_type": "execute_result"
    }
   ],
   "source": [
    "argo_data.FORMAT_VERSION"
   ]
  },
  {
   "cell_type": "code",
   "execution_count": 3,
   "metadata": {},
   "outputs": [
    {
     "data": {
      "text/plain": [
       "(19, 4)"
      ]
     },
     "execution_count": 3,
     "metadata": {},
     "output_type": "execute_result"
    }
   ],
   "source": [
    "rgbset2 = np.array([[20,100,210,256],\n",
    "[30,110,235,256],\n",
    "[40,130,240,256],\n",
    "[60,150,245,256],\n",
    "[80,165,245,256],\n",
    "[120,185,250,256],\n",
    "[150,210,250,256],\n",
    "[180,240,250,256],\n",
    "[225,255,255,256],\n",
    "[245,245,245,256],\n",
    "[255,250,170,256],\n",
    "[255,232,120,256],\n",
    "[255,192,60,256],\n",
    "[255,160,0,256],\n",
    "[255,96,0,256],\n",
    "[255,50,0,256],\n",
    "[225,20,0,256],\n",
    "[192,0,0,256],\n",
    "[165,0,0,256]])\n",
    "\n",
    "rgbset2.shape\n"
   ]
  },
  {
   "cell_type": "code",
   "execution_count": 9,
   "metadata": {},
   "outputs": [
    {
     "data": {
      "image/png": "[encoded data removed]",
      "text/plain": [
       "<Figure size 432x216 with 4 Axes>"
      ]
     },
     "metadata": {
      "needs_background": "light"
     },
     "output_type": "display_data"
    }
   ],
   "source": [
    "import numpy as np\n",
    "import matplotlib as mpl\n",
    "import matplotlib.pyplot as plt\n",
    "from matplotlib import cm\n",
    "from matplotlib.colors import ListedColormap, LinearSegmentedColormap\n",
    "from collections import OrderedDict\n",
    "\n",
    "newcmp = ListedColormap(rgbset2/256)\n",
    "def plot_examples(cms):\n",
    "    \"\"\"\n",
    "    helper function to plot two colormaps\n",
    "    \"\"\"\n",
    "    np.random.seed(19680801)\n",
    "    data = np.random.randn(30, 30)\n",
    "\n",
    "    fig, axs = plt.subplots(1, 2, figsize=(6, 3), constrained_layout=True)\n",
    "    for [ax, cmap] in zip(axs, cms):\n",
    "        psm = ax.pcolormesh(data, cmap=cmap, rasterized=True, vmin=-4, vmax=4)\n",
    "        fig.colorbar(psm, ax=ax)\n",
    "    plt.show()\n",
    "\n",
    "plot_examples([cm.get_cmap('viridis'), newcmp])"
   ]
  },
  {
   "cell_type": "code",
   "execution_count": 11,
   "metadata": {},
   "outputs": [
    {
     "data": {
      "text/plain": [
       "[(1, 2, 3), (1, 2, 3), (1, 2, 3), (1, 2, 3), (1, 2, 3)]"
      ]
     },
     "execution_count": 11,
     "metadata": {},
     "output_type": "execute_result"
    }
   ],
   "source": [
    "[(1,2,3)]*5"
   ]
  },
  {
   "cell_type": "code",
   "execution_count": null,
   "metadata": {},
   "outputs": [],
   "source": []
  }
 ],
 "metadata": {
  "kernelspec": {
   "display_name": "Python 3",
   "language": "python",
   "name": "python3"
  },
  "language_info": {
   "codemirror_mode": {
    "name": "ipython",
    "version": 3
   },
   "file_extension": ".py",
   "mimetype": "text/x-python",
   "name": "python",
   "nbconvert_exporter": "python",
   "pygments_lexer": "ipython3",
   "version": "3.6.7"
  }
 },
 "nbformat": 4,
 "nbformat_minor": 2
}
