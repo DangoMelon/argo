{
 "cells": [
  {
   "cell_type": "code",
   "execution_count": 1,
   "metadata": {},
   "outputs": [],
   "source": [
    "%%capture\n",
    "from dask_jobqueue import SLURMCluster\n",
    "from dask.distributed import Client\n",
    "import xarray as xr\n",
    "import os\n",
    "import time\n",
    "import numpy as np"
   ]
  },
  {
   "cell_type": "code",
   "execution_count": 2,
   "metadata": {},
   "outputs": [
    {
     "data": {
      "application/vnd.jupyter.widget-view+json": {
       "model_id": "91cd9f5eea6e4e3284b4dbb76c5b2f83",
       "version_major": 2,
       "version_minor": 0
      },
      "text/plain": [
       "VBox(children=(HTML(value='<h2>SLURMCluster</h2>'), HBox(children=(HTML(value='\\n<div>\\n  <style scoped>\\n    …"
      ]
     },
     "metadata": {},
     "output_type": "display_data"
    }
   ],
   "source": [
    "cluster = SLURMCluster(queue='mpi_short1', cores=24, memory='24GB', processes=6)\n",
    "cluster"
   ]
  },
  {
   "cell_type": "code",
   "execution_count": 3,
   "metadata": {},
   "outputs": [
    {
     "data": {
      "text/html": [
       "<table style=\"border: 2px solid white;\">\n",
       "<tr>\n",
       "<td style=\"vertical-align: top; border: 0px solid white\">\n",
       "<h3>Client</h3>\n",
       "<ul>\n",
       "  <li><b>Scheduler: </b>tcp://192.168.0.13:55926\n",
       "  <li><b>Dashboard: </b><a href='http://192.168.0.13:8787/status' target='_blank'>http://192.168.0.13:8787/status</a>\n",
       "</ul>\n",
       "</td>\n",
       "<td style=\"vertical-align: top; border: 0px solid white\">\n",
       "<h3>Cluster</h3>\n",
       "<ul>\n",
       "  <li><b>Workers: </b>0</li>\n",
       "  <li><b>Cores: </b>0</li>\n",
       "  <li><b>Memory: </b>0 B</li>\n",
       "</ul>\n",
       "</td>\n",
       "</tr>\n",
       "</table>"
      ],
      "text/plain": [
       "<Client: scheduler='tcp://192.168.0.13:55926' processes=0 cores=0>"
      ]
     },
     "execution_count": 3,
     "metadata": {},
     "output_type": "execute_result"
    }
   ],
   "source": [
    "client = Client(cluster)\n",
    "client"
   ]
  },
  {
   "cell_type": "code",
   "execution_count": 10,
   "metadata": {},
   "outputs": [
    {
     "data": {
      "text/plain": [
       "<xarray.Dataset>\n",
       "Dimensions:                       (N_CALIB: 1, N_HISTORY: 0, N_LEVELS: 1024, N_PARAM: 3, N_PROF: 199)\n",
       "Dimensions without coordinates: N_CALIB, N_HISTORY, N_LEVELS, N_PARAM, N_PROF\n",
       "Data variables:\n",
       "    DATA_TYPE                     object ...\n",
       "    FORMAT_VERSION                object ...\n",
       "    HANDBOOK_VERSION              object ...\n",
       "    REFERENCE_DATE_TIME           object ...\n",
       "    DATE_CREATION                 object ...\n",
       "    DATE_UPDATE                   object ...\n",
       "    PLATFORM_NUMBER               (N_PROF) object ...\n",
       "    PROJECT_NAME                  (N_PROF) object ...\n",
       "    PI_NAME                       (N_PROF) object ...\n",
       "    STATION_PARAMETERS            (N_PROF, N_PARAM) object ...\n",
       "    CYCLE_NUMBER                  (N_PROF) float64 ...\n",
       "    DIRECTION                     (N_PROF) object ...\n",
       "    DATA_CENTRE                   (N_PROF) object ...\n",
       "    DC_REFERENCE                  (N_PROF) object ...\n",
       "    DATA_STATE_INDICATOR          (N_PROF) object ...\n",
       "    DATA_MODE                     (N_PROF) object ...\n",
       "    PLATFORM_TYPE                 (N_PROF) object ...\n",
       "    FLOAT_SERIAL_NO               (N_PROF) object ...\n",
       "    FIRMWARE_VERSION              (N_PROF) object ...\n",
       "    WMO_INST_TYPE                 (N_PROF) object ...\n",
       "    JULD                          (N_PROF) datetime64[ns] ...\n",
       "    JULD_QC                       (N_PROF) object ...\n",
       "    JULD_LOCATION                 (N_PROF) datetime64[ns] ...\n",
       "    LATITUDE                      (N_PROF) float64 ...\n",
       "    LONGITUDE                     (N_PROF) float64 ...\n",
       "    POSITION_QC                   (N_PROF) object ...\n",
       "    POSITIONING_SYSTEM            (N_PROF) object ...\n",
       "    PROFILE_PRES_QC               (N_PROF) object ...\n",
       "    PROFILE_TEMP_QC               (N_PROF) object ...\n",
       "    PROFILE_PSAL_QC               (N_PROF) object ...\n",
       "    VERTICAL_SAMPLING_SCHEME      (N_PROF) object ...\n",
       "    CONFIG_MISSION_NUMBER         (N_PROF) float64 ...\n",
       "    PRES                          (N_PROF, N_LEVELS) float32 ...\n",
       "    PRES_QC                       (N_PROF, N_LEVELS) object ...\n",
       "    PRES_ADJUSTED                 (N_PROF, N_LEVELS) float32 ...\n",
       "    PRES_ADJUSTED_QC              (N_PROF, N_LEVELS) object ...\n",
       "    PRES_ADJUSTED_ERROR           (N_PROF, N_LEVELS) float32 ...\n",
       "    TEMP                          (N_PROF, N_LEVELS) float32 ...\n",
       "    TEMP_QC                       (N_PROF, N_LEVELS) object ...\n",
       "    TEMP_ADJUSTED                 (N_PROF, N_LEVELS) float32 ...\n",
       "    TEMP_ADJUSTED_QC              (N_PROF, N_LEVELS) object ...\n",
       "    TEMP_ADJUSTED_ERROR           (N_PROF, N_LEVELS) float32 ...\n",
       "    PSAL                          (N_PROF, N_LEVELS) float32 ...\n",
       "    PSAL_QC                       (N_PROF, N_LEVELS) object ...\n",
       "    PSAL_ADJUSTED                 (N_PROF, N_LEVELS) float32 ...\n",
       "    PSAL_ADJUSTED_QC              (N_PROF, N_LEVELS) object ...\n",
       "    PSAL_ADJUSTED_ERROR           (N_PROF, N_LEVELS) float32 ...\n",
       "    PARAMETER                     (N_PROF, N_CALIB, N_PARAM) object ...\n",
       "    SCIENTIFIC_CALIB_EQUATION     (N_PROF, N_CALIB, N_PARAM) object ...\n",
       "    SCIENTIFIC_CALIB_COEFFICIENT  (N_PROF, N_CALIB, N_PARAM) object ...\n",
       "    SCIENTIFIC_CALIB_COMMENT      (N_PROF, N_CALIB, N_PARAM) object ...\n",
       "    SCIENTIFIC_CALIB_DATE         (N_PROF, N_CALIB, N_PARAM) object ...\n",
       "    HISTORY_INSTITUTION           (N_HISTORY, N_PROF) object ...\n",
       "    HISTORY_STEP                  (N_HISTORY, N_PROF) object ...\n",
       "    HISTORY_SOFTWARE              (N_HISTORY, N_PROF) object ...\n",
       "    HISTORY_SOFTWARE_RELEASE      (N_HISTORY, N_PROF) object ...\n",
       "    HISTORY_REFERENCE             (N_HISTORY, N_PROF) object ...\n",
       "    HISTORY_DATE                  (N_HISTORY, N_PROF) object ...\n",
       "    HISTORY_ACTION                (N_HISTORY, N_PROF) object ...\n",
       "    HISTORY_PARAMETER             (N_HISTORY, N_PROF) object ...\n",
       "    HISTORY_START_PRES            (N_HISTORY, N_PROF) float32 ...\n",
       "    HISTORY_STOP_PRES             (N_HISTORY, N_PROF) float32 ...\n",
       "    HISTORY_PREVIOUS_VALUE        (N_HISTORY, N_PROF) float32 ...\n",
       "    HISTORY_QCTEST                (N_HISTORY, N_PROF) object ...\n",
       "Attributes:\n",
       "    title:                Argo float vertical profile\n",
       "    institution:          FR GDAC\n",
       "    source:               Argo float\n",
       "    history:              2019-01-22T08:44:50Z creation\n",
       "    references:           http://www.argodatamgt.org/Documentation\n",
       "    user_manual_version:  3.1\n",
       "    Conventions:          Argo-3.1 CF-1.6\n",
       "    featureType:          trajectoryProfile"
      ]
     },
     "execution_count": 10,
     "metadata": {},
     "output_type": "execute_result"
    }
   ],
   "source": [
    "argo_data = xr.open_dataset('/data/datos/ARGO/data/20190121_prof.nc')\n",
    "argo_data"
   ]
  },
  {
   "cell_type": "code",
   "execution_count": 11,
   "metadata": {},
   "outputs": [
    {
     "data": {
      "text/plain": [
       "<xarray.DataArray 'DATA_CENTRE' (N_PROF: 5)>\n",
       "array([b'AO', b'AO', b'AO', b'AO', b'AO'], dtype=object)\n",
       "Dimensions without coordinates: N_PROF\n",
       "Attributes:\n",
       "    long_name:    Data centre in charge of float data processing\n",
       "    conventions:  Argo reference table 4"
      ]
     },
     "execution_count": 11,
     "metadata": {},
     "output_type": "execute_result"
    }
   ],
   "source": [
    "argo_data.DATA_CENTRE[(argo_data.LATITUDE>-0.5) & (argo_data.LATITUDE<0.5)]"
   ]
  },
  {
   "cell_type": "code",
   "execution_count": 12,
   "metadata": {},
   "outputs": [
    {
     "data": {
      "text/plain": [
       "<xarray.DataArray 'PLATFORM_NUMBER' (N_PROF: 5)>\n",
       "array(['3901162 ', '4901656 ', '5904947 ', '5904552 ', '3901159 '], dtype='<U8')\n",
       "Dimensions without coordinates: N_PROF"
      ]
     },
     "execution_count": 12,
     "metadata": {},
     "output_type": "execute_result"
    }
   ],
   "source": [
    "plat_nm=argo_data.PLATFORM_NUMBER[(argo_data.LATITUDE>-0.5) & (argo_data.LATITUDE<0.5)].astype(str)\n",
    "plat_nm"
   ]
  },
  {
   "cell_type": "code",
   "execution_count": 13,
   "metadata": {},
   "outputs": [],
   "source": [
    "#plat_nm.to_dataframe().to_csv('prof_list.txt',sep='\\t',header=False, index=None)"
   ]
  },
  {
   "cell_type": "code",
   "execution_count": 106,
   "metadata": {},
   "outputs": [
    {
     "data": {
      "text/plain": [
       "<xarray.Dataset>\n",
       "Dimensions:                              (N_CYCLE: 157, N_HISTORY: 25, N_MEASUREMENT: 7956, N_PARAM: 3)\n",
       "Dimensions without coordinates: N_CYCLE, N_HISTORY, N_MEASUREMENT, N_PARAM\n",
       "Data variables:\n",
       "    DATA_TYPE                            object ...\n",
       "    FORMAT_VERSION                       object ...\n",
       "    HANDBOOK_VERSION                     object ...\n",
       "    REFERENCE_DATE_TIME                  object ...\n",
       "    DATE_CREATION                        object ...\n",
       "    DATE_UPDATE                          object ...\n",
       "    PLATFORM_NUMBER                      object ...\n",
       "    PROJECT_NAME                         object ...\n",
       "    PI_NAME                              object ...\n",
       "    TRAJECTORY_PARAMETERS                (N_PARAM) object ...\n",
       "    DATA_CENTRE                          object ...\n",
       "    DATA_STATE_INDICATOR                 object ...\n",
       "    PLATFORM_TYPE                        object ...\n",
       "    FLOAT_SERIAL_NO                      object ...\n",
       "    FIRMWARE_VERSION                     object ...\n",
       "    WMO_INST_TYPE                        object ...\n",
       "    POSITIONING_SYSTEM                   object ...\n",
       "    JULD                                 (N_MEASUREMENT) datetime64[ns] ...\n",
       "    JULD_STATUS                          (N_MEASUREMENT) object ...\n",
       "    JULD_QC                              (N_MEASUREMENT) object ...\n",
       "    JULD_ADJUSTED                        (N_MEASUREMENT) datetime64[ns] ...\n",
       "    JULD_ADJUSTED_STATUS                 (N_MEASUREMENT) object ...\n",
       "    JULD_ADJUSTED_QC                     (N_MEASUREMENT) object ...\n",
       "    LATITUDE                             (N_MEASUREMENT) float64 ...\n",
       "    LONGITUDE                            (N_MEASUREMENT) float64 ...\n",
       "    POSITION_ACCURACY                    (N_MEASUREMENT) object ...\n",
       "    POSITION_QC                          (N_MEASUREMENT) object ...\n",
       "    CYCLE_NUMBER                         (N_MEASUREMENT) float64 ...\n",
       "    CYCLE_NUMBER_ADJUSTED                (N_MEASUREMENT) float64 ...\n",
       "    MEASUREMENT_CODE                     (N_MEASUREMENT) float64 ...\n",
       "    PRES                                 (N_MEASUREMENT) float32 ...\n",
       "    PRES_QC                              (N_MEASUREMENT) object ...\n",
       "    PRES_ADJUSTED                        (N_MEASUREMENT) float32 ...\n",
       "    PRES_ADJUSTED_QC                     (N_MEASUREMENT) object ...\n",
       "    PRES_ADJUSTED_ERROR                  (N_MEASUREMENT) float32 ...\n",
       "    TEMP                                 (N_MEASUREMENT) float32 ...\n",
       "    TEMP_QC                              (N_MEASUREMENT) object ...\n",
       "    TEMP_ADJUSTED                        (N_MEASUREMENT) float32 ...\n",
       "    TEMP_ADJUSTED_QC                     (N_MEASUREMENT) object ...\n",
       "    TEMP_ADJUSTED_ERROR                  (N_MEASUREMENT) float32 ...\n",
       "    PSAL                                 (N_MEASUREMENT) float32 ...\n",
       "    PSAL_QC                              (N_MEASUREMENT) object ...\n",
       "    PSAL_ADJUSTED                        (N_MEASUREMENT) float32 ...\n",
       "    PSAL_ADJUSTED_QC                     (N_MEASUREMENT) object ...\n",
       "    PSAL_ADJUSTED_ERROR                  (N_MEASUREMENT) float32 ...\n",
       "    AXES_ERROR_ELLIPSE_MAJOR             (N_MEASUREMENT) float32 ...\n",
       "    AXES_ERROR_ELLIPSE_MINOR             (N_MEASUREMENT) float32 ...\n",
       "    AXES_ERROR_ELLIPSE_ANGLE             (N_MEASUREMENT) float32 ...\n",
       "    SATELLITE_NAME                       (N_MEASUREMENT) object ...\n",
       "    JULD_DESCENT_START                   (N_CYCLE) datetime64[ns] ...\n",
       "    JULD_DESCENT_START_STATUS            (N_CYCLE) object ...\n",
       "    JULD_FIRST_STABILIZATION             (N_CYCLE) datetime64[ns] ...\n",
       "    JULD_FIRST_STABILIZATION_STATUS      (N_CYCLE) object ...\n",
       "    JULD_DESCENT_END                     (N_CYCLE) datetime64[ns] ...\n",
       "    JULD_DESCENT_END_STATUS              (N_CYCLE) object ...\n",
       "    JULD_PARK_START                      (N_CYCLE) datetime64[ns] ...\n",
       "    JULD_PARK_START_STATUS               (N_CYCLE) object ...\n",
       "    JULD_PARK_END                        (N_CYCLE) datetime64[ns] ...\n",
       "    JULD_PARK_END_STATUS                 (N_CYCLE) object ...\n",
       "    JULD_DEEP_DESCENT_END                (N_CYCLE) datetime64[ns] ...\n",
       "    JULD_DEEP_DESCENT_END_STATUS         (N_CYCLE) object ...\n",
       "    JULD_DEEP_PARK_START                 (N_CYCLE) datetime64[ns] ...\n",
       "    JULD_DEEP_PARK_START_STATUS          (N_CYCLE) object ...\n",
       "    JULD_ASCENT_START                    (N_CYCLE) datetime64[ns] ...\n",
       "    JULD_ASCENT_START_STATUS             (N_CYCLE) object ...\n",
       "    JULD_DEEP_ASCENT_START               (N_CYCLE) datetime64[ns] ...\n",
       "    JULD_DEEP_ASCENT_START_STATUS        (N_CYCLE) object ...\n",
       "    JULD_ASCENT_END                      (N_CYCLE) datetime64[ns] ...\n",
       "    JULD_ASCENT_END_STATUS               (N_CYCLE) object ...\n",
       "    JULD_TRANSMISSION_START              (N_CYCLE) datetime64[ns] ...\n",
       "    JULD_TRANSMISSION_START_STATUS       (N_CYCLE) object ...\n",
       "    JULD_FIRST_MESSAGE                   (N_CYCLE) datetime64[ns] ...\n",
       "    JULD_FIRST_MESSAGE_STATUS            (N_CYCLE) object ...\n",
       "    JULD_FIRST_LOCATION                  (N_CYCLE) datetime64[ns] ...\n",
       "    JULD_FIRST_LOCATION_STATUS           (N_CYCLE) object ...\n",
       "    JULD_LAST_LOCATION                   (N_CYCLE) datetime64[ns] ...\n",
       "    JULD_LAST_LOCATION_STATUS            (N_CYCLE) object ...\n",
       "    JULD_LAST_MESSAGE                    (N_CYCLE) datetime64[ns] ...\n",
       "    JULD_LAST_MESSAGE_STATUS             (N_CYCLE) object ...\n",
       "    JULD_TRANSMISSION_END                (N_CYCLE) datetime64[ns] ...\n",
       "    JULD_TRANSMISSION_END_STATUS         (N_CYCLE) object ...\n",
       "    CLOCK_OFFSET                         (N_CYCLE) timedelta64[ns] ...\n",
       "    GROUNDED                             (N_CYCLE) object ...\n",
       "    REPRESENTATIVE_PARK_PRESSURE         (N_CYCLE) float32 ...\n",
       "    REPRESENTATIVE_PARK_PRESSURE_STATUS  (N_CYCLE) object ...\n",
       "    CONFIG_MISSION_NUMBER                (N_CYCLE) float64 ...\n",
       "    CYCLE_NUMBER_INDEX                   (N_CYCLE) float64 ...\n",
       "    CYCLE_NUMBER_INDEX_ADJUSTED          (N_CYCLE) float64 ...\n",
       "    DATA_MODE                            (N_CYCLE) object ...\n",
       "    HISTORY_INSTITUTION                  (N_HISTORY) object ...\n",
       "    HISTORY_STEP                         (N_HISTORY) object ...\n",
       "    HISTORY_SOFTWARE                     (N_HISTORY) object ...\n",
       "    HISTORY_SOFTWARE_RELEASE             (N_HISTORY) object ...\n",
       "    HISTORY_REFERENCE                    (N_HISTORY) object ...\n",
       "    HISTORY_DATE                         (N_HISTORY) object ...\n",
       "    HISTORY_ACTION                       (N_HISTORY) object ...\n",
       "    HISTORY_PARAMETER                    (N_HISTORY) object ...\n",
       "    HISTORY_PREVIOUS_VALUE               (N_HISTORY) float32 ...\n",
       "    HISTORY_INDEX_DIMENSION              (N_HISTORY) object ...\n",
       "    HISTORY_START_INDEX                  (N_HISTORY) float64 ...\n",
       "    HISTORY_STOP_INDEX                   (N_HISTORY) float64 ...\n",
       "    HISTORY_QCTEST                       (N_HISTORY) object ...\n",
       "Attributes:\n",
       "    title:                Argo float trajectory file\n",
       "    institution:          AOML\n",
       "    source:               Argo float\n",
       "    history:              2019-01-11T21:11:03Z creation\n",
       "    references:           http://www.argodatamgt.org/Documentation\n",
       "    comment:              free text\n",
       "    user_manual_version:  3.1\n",
       "    Conventions:          Argo-3.1 CF-1.6\n",
       "    featureType:          trajectory"
      ]
     },
     "execution_count": 106,
     "metadata": {},
     "output_type": "execute_result"
    }
   ],
   "source": [
    "traj = xr.open_dataset('/data/users/grivera/ARGO-traj/4901656_Rtraj.nc')\n",
    "traj"
   ]
  },
  {
   "cell_type": "code",
   "execution_count": 107,
   "metadata": {},
   "outputs": [],
   "source": [
    "import datetime"
   ]
  },
  {
   "cell_type": "code",
   "execution_count": 177,
   "metadata": {},
   "outputs": [
    {
     "data": {
      "text/plain": [
       "numpy.datetime64('2018-01-22')"
      ]
     },
     "execution_count": 177,
     "metadata": {},
     "output_type": "execute_result"
    }
   ],
   "source": [
    "olddate=np.datetime64(datetime.date.today()-datetime.timedelta(days=365))\n",
    "olddate"
   ]
  },
  {
   "cell_type": "code",
   "execution_count": 178,
   "metadata": {},
   "outputs": [
    {
     "data": {
      "text/plain": [
       "<xarray.DataArray 'JULD' (N_MEASUREMENT: 1471)>\n",
       "array(['2018-01-22T01:32:02.000153600', '2018-01-22T07:32:02.000797440',\n",
       "       '2018-01-22T13:32:02.001441024', ..., '2019-01-11T12:17:30.001312256',\n",
       "       '2019-01-11T12:17:30.001312256', '2019-01-11T12:17:30.001312256'],\n",
       "      dtype='datetime64[ns]')\n",
       "Dimensions without coordinates: N_MEASUREMENT\n",
       "Attributes:\n",
       "    long_name:      Julian day (UTC) of each measurement relative to REFERENC...\n",
       "    standard_name:  time\n",
       "    conventions:    Relative julian days with decimal part (as parts of day)\n",
       "    resolution:     1.1574074051168282e-05\n",
       "    axis:           T"
      ]
     },
     "execution_count": 178,
     "metadata": {},
     "output_type": "execute_result"
    }
   ],
   "source": [
    "mask = traj.JULD>olddate\n",
    "traj.JULD[mask]"
   ]
  },
  {
   "cell_type": "code",
   "execution_count": 179,
   "metadata": {},
   "outputs": [
    {
     "data": {
      "text/plain": [
       "<xarray.DataArray 'LONGITUDE' (N_MEASUREMENT: 1471)>\n",
       "array([    nan,     nan,     nan, ..., 173.249,     nan,     nan])\n",
       "Dimensions without coordinates: N_MEASUREMENT\n",
       "Attributes:\n",
       "    long_name:      Longitude of each location\n",
       "    standard_name:  longitude\n",
       "    units:          degree_east\n",
       "    valid_min:      -180.0\n",
       "    valid_max:      180.0\n",
       "    axis:           X"
      ]
     },
     "execution_count": 179,
     "metadata": {},
     "output_type": "execute_result"
    }
   ],
   "source": [
    "lats = traj.LONGITUDE[mask]\n",
    "lats"
   ]
  },
  {
   "cell_type": "code",
   "execution_count": 180,
   "metadata": {},
   "outputs": [
    {
     "data": {
      "text/plain": [
       "<xarray.DataArray 'LATITUDE' (N_MEASUREMENT: 1471)>\n",
       "array([   nan,    nan,    nan, ..., -0.542,    nan,    nan])\n",
       "Dimensions without coordinates: N_MEASUREMENT\n",
       "Attributes:\n",
       "    long_name:      Latitude of each location\n",
       "    standard_name:  latitude\n",
       "    units:          degree_north\n",
       "    valid_min:      -90.0\n",
       "    valid_max:      90.0\n",
       "    axis:           Y"
      ]
     },
     "execution_count": 180,
     "metadata": {},
     "output_type": "execute_result"
    }
   ],
   "source": [
    "lons = traj.LATITUDE[mask]\n",
    "lons"
   ]
  },
  {
   "cell_type": "code",
   "execution_count": 182,
   "metadata": {},
   "outputs": [
    {
     "data": {
      "text/plain": [
       "array([[ 1.58969e+02,  9.26000e-01],\n",
       "       [ 1.59555e+02,  1.41000e+00],\n",
       "       [ 1.60382e+02,  1.48200e+00],\n",
       "       [ 1.61806e+02,  1.17200e+00],\n",
       "       [ 1.62898e+02,  1.27200e+00],\n",
       "       [ 1.63303e+02,  9.58000e-01],\n",
       "       [ 1.63474e+02,  6.88000e-01],\n",
       "       [ 1.63903e+02,  3.86000e-01],\n",
       "       [ 1.65488e+02,  9.51000e-01],\n",
       "       [ 1.66777e+02,  1.07000e+00],\n",
       "       [ 1.68003e+02,  8.58000e-01],\n",
       "       [ 1.68886e+02,  9.87000e-01],\n",
       "       [ 1.69415e+02,  9.99000e-01],\n",
       "       [ 1.70084e+02,  8.77000e-01],\n",
       "       [ 1.70692e+02,  1.23900e+00],\n",
       "       [ 1.71073e+02,  9.73000e-01],\n",
       "       [ 1.71399e+02,  9.64000e-01],\n",
       "       [ 1.71658e+02,  1.16500e+00],\n",
       "       [ 1.71750e+02,  1.28800e+00],\n",
       "       [ 1.71736e+02,  1.13300e+00],\n",
       "       [ 1.72440e+02,  1.52200e+00],\n",
       "       [ 1.72130e+02,  5.79000e-01],\n",
       "       [ 1.71007e+02,  1.69000e-01],\n",
       "       [ 1.69697e+02,  2.85000e-01],\n",
       "       [ 1.68699e+02,  8.12000e-01],\n",
       "       [ 1.67858e+02,  5.27000e-01],\n",
       "       [ 1.67371e+02, -6.68000e-01],\n",
       "       [ 1.67273e+02, -6.09000e-01],\n",
       "       [ 1.67292e+02, -6.48000e-01],\n",
       "       [ 1.67578e+02, -9.13000e-01],\n",
       "       [ 1.67580e+02, -9.06000e-01],\n",
       "       [ 1.68292e+02, -1.38000e+00],\n",
       "       [ 1.69557e+02, -1.58500e+00],\n",
       "       [ 1.71026e+02, -1.44200e+00],\n",
       "       [ 1.71981e+02, -9.48000e-01],\n",
       "       [ 1.72864e+02, -7.73000e-01],\n",
       "       [ 1.73249e+02, -5.42000e-01]])"
      ]
     },
     "execution_count": 182,
     "metadata": {},
     "output_type": "execute_result"
    }
   ],
   "source": [
    "coords = np.column_stack((lats,lons)) #50723,70679\n",
    "coords = coords[~np.isnan(coords)].reshape((37,2))\n",
    "coords"
   ]
  },
  {
   "cell_type": "code",
   "execution_count": 189,
   "metadata": {},
   "outputs": [
    {
     "data": {
      "text/plain": [
       "<cartopy.mpl.feature_artist.FeatureArtist at 0x2b7a140cc748>"
      ]
     },
     "execution_count": 189,
     "metadata": {},
     "output_type": "execute_result"
    },
    {
     "data": {
      "image/png": "[encoded data removed]",
      "text/plain": [
       "<Figure size 432x288 with 1 Axes>"
      ]
     },
     "metadata": {
      "needs_background": "light"
     },
     "output_type": "display_data"
    }
   ],
   "source": [
    "%matplotlib inline\n",
    "import cartopy.crs as ccrs\n",
    "from cartopy.mpl.ticker import LongitudeFormatter, LatitudeFormatter\n",
    "import matplotlib.pyplot as plt\n",
    "proj = ccrs.PlateCarree(central_longitude=180)\n",
    "fig, ax = plt.subplots(subplot_kw=dict(projection=proj))\n",
    "ax.set_xticks([0, 60, 120, 180, 240, 300, 360], crs=ccrs.PlateCarree())\n",
    "ax.set_yticks([-90, -60, -30, 0, 30, 60, 90], crs=ccrs.PlateCarree())\n",
    "lon_formatter = LongitudeFormatter(zero_direction_label=True)\n",
    "lat_formatter = LatitudeFormatter()\n",
    "ax.xaxis.set_major_formatter(lon_formatter)\n",
    "ax.yaxis.set_major_formatter(lat_formatter)\n",
    "ax.plot(lats[~np.isnan(lats)]-180,lons[~np.isnan(lons)],ls='-',lw=1)\n",
    "ax.set_extent([-60, 120, -50, 50], crs=proj)\n",
    "ax.coastlines()"
   ]
  },
  {
   "cell_type": "code",
   "execution_count": null,
   "metadata": {},
   "outputs": [],
   "source": []
  }
 ],
 "metadata": {
  "kernelspec": {
   "display_name": "Python 3",
   "language": "python",
   "name": "python3"
  },
  "language_info": {
   "codemirror_mode": {
    "name": "ipython",
    "version": 3
   },
   "file_extension": ".py",
   "mimetype": "text/x-python",
   "name": "python",
   "nbconvert_exporter": "python",
   "pygments_lexer": "ipython3",
   "version": "3.6.7"
  }
 },
 "nbformat": 4,
 "nbformat_minor": 2
}
